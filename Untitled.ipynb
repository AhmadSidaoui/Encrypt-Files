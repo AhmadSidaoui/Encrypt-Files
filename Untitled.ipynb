{
 "cells": [
  {
   "cell_type": "markdown",
   "id": "528c89d7",
   "metadata": {},
   "source": [
    "# Encrypting USB stick (python)"
   ]
  },
  {
   "cell_type": "code",
   "execution_count": 1,
   "id": "8d2c052f",
   "metadata": {},
   "outputs": [],
   "source": [
    "# Dependencies\n",
    "\n",
    "import os\n",
    "import wmi   # library that allows to scan the ports of a computer\n",
    "from cryptography.fernet import Fernet\n",
    "\n",
    "# Defining variable with the USB name\n",
    "# Defining variable with USB path\n",
    "\n",
    "usb_name = 'USB Sidaoui'\n",
    "files = r\"E:\\\\\"\n",
    "\n",
    "# create an object of wmi\n",
    "\n",
    "c = wmi.WMI()\n"
   ]
  },
  {
   "cell_type": "code",
   "execution_count": 2,
   "id": "9a0c9203",
   "metadata": {},
   "outputs": [
    {
     "data": {
      "text/plain": [
       "'E:\\\\\\\\'"
      ]
     },
     "execution_count": 2,
     "metadata": {},
     "output_type": "execute_result"
    }
   ],
   "source": [
    "files"
   ]
  },
  {
   "cell_type": "code",
   "execution_count": 3,
   "id": "c56276ad",
   "metadata": {},
   "outputs": [],
   "source": [
    "# Check if the USB key is plugged in or not\n",
    "\n",
    "# This function iterates over any disk drives, including the internal disks\n",
    "# only returns a value of the drive name matches with the usb name\n",
    "\n",
    "def check_for_key():\n",
    "    for disk in c.win32_LogicalDisk():\n",
    "        if disk.VolumeNAme == usb_name:\n",
    "            return disk\n"
   ]
  },
  {
   "cell_type": "code",
   "execution_count": 4,
   "id": "7101ccef",
   "metadata": {},
   "outputs": [],
   "source": [
    "# Generating a unique encryption key\n",
    "# We need to see if the usb stick already has a key,\n",
    "# if not we needt o generate one\n",
    "\n",
    "\n",
    "def load_key(usbDisk):\n",
    "   port = usbDisk.DeviceID\n",
    "   try:                              # to check if a key exists \n",
    "      print('Trying to find key...')\n",
    "      with open(f'{port}\\\\encryptionKey.key','rb') as encryptKey:\n",
    "         key = encryptKey.read()\n",
    "         print('Key Found')\n",
    "   except:                           # to create a new one if it dies not exist\n",
    "      print('Key not found... Creating a new key')\n",
    "      key = Fernet.generate_key()\n",
    "      with open(f'{port}\\\\encryptionKey.key','wb') as encryptKey:\n",
    "         encryptKey.write(key)\n",
    "   return key"
   ]
  },
  {
   "cell_type": "code",
   "execution_count": 5,
   "id": "804c92fe",
   "metadata": {},
   "outputs": [],
   "source": [
    "# encryption function\n",
    "\n",
    "# open each file in the directory, read it, encrypt the contents, write\n",
    "# and replace the data\n",
    "\n",
    "def encryptFiles(key,directory):\n",
    "   files = os.listdir(directory)\n",
    "   cipher = Fernet(key)\n",
    "   global state\n",
    "   state = 'encrypted'\n",
    "   for file in files:\n",
    "      with open(f'{directory}\\{file}','rb') as old:\n",
    "         original = old.read()\n",
    "      encrypted = cipher.encrypt(original)\n",
    "      with open(f'{directory}\\{file}','wb') as old:\n",
    "         old.write(encrypted)"
   ]
  },
  {
   "cell_type": "code",
   "execution_count": 6,
   "id": "c591175b",
   "metadata": {},
   "outputs": [],
   "source": [
    "# decryption function\n",
    "\n",
    "def decryptFiles(key,directory):\n",
    "   files = os.listdir(directory)\n",
    "   cipher = Fernet(key)\n",
    "   global state\n",
    "   state = 'decrypted'\n",
    "   for file in files:\n",
    "      with open(f'{directory}\\{file}','rb') as old:\n",
    "         encrypted = old.read()\n",
    "      decrypted = cipher.decrypt(encrypted)\n",
    "      with open(f'{directory}\\{file}','wb') as old:\n",
    "         old.write(decrypted)"
   ]
  },
  {
   "cell_type": "code",
   "execution_count": 7,
   "id": "4861c3d9",
   "metadata": {
    "scrolled": false
   },
   "outputs": [
    {
     "name": "stdout",
     "output_type": "stream",
     "text": [
      "Trying to find key...\n",
      "Key not found... Creating a new key\n"
     ]
    },
    {
     "ename": "PermissionError",
     "evalue": "[Errno 13] Permission denied: 'E:\\\\\\\\\\\\System Volume Information'",
     "output_type": "error",
     "traceback": [
      "\u001b[1;31m---------------------------------------------------------------------------\u001b[0m",
      "\u001b[1;31mPermissionError\u001b[0m                           Traceback (most recent call last)",
      "Cell \u001b[1;32mIn[7], line 16\u001b[0m\n\u001b[0;32m     14\u001b[0m current_state \u001b[38;5;241m=\u001b[39m \u001b[38;5;124m'\u001b[39m\u001b[38;5;124mencrypted\u001b[39m\u001b[38;5;124m'\u001b[39m\n\u001b[0;32m     15\u001b[0m \u001b[38;5;28;01mif\u001b[39;00m current_state\u001b[38;5;241m!=\u001b[39mstate:\n\u001b[1;32m---> 16\u001b[0m    \u001b[43mencryptFiles\u001b[49m\u001b[43m(\u001b[49m\u001b[43mkey\u001b[49m\u001b[43m,\u001b[49m\u001b[43mfiles\u001b[49m\u001b[43m)\u001b[49m\n",
      "Cell \u001b[1;32mIn[5], line 12\u001b[0m, in \u001b[0;36mencryptFiles\u001b[1;34m(key, directory)\u001b[0m\n\u001b[0;32m     10\u001b[0m state \u001b[38;5;241m=\u001b[39m \u001b[38;5;124m'\u001b[39m\u001b[38;5;124mencrypted\u001b[39m\u001b[38;5;124m'\u001b[39m\n\u001b[0;32m     11\u001b[0m \u001b[38;5;28;01mfor\u001b[39;00m file \u001b[38;5;129;01min\u001b[39;00m files:\n\u001b[1;32m---> 12\u001b[0m    \u001b[38;5;28;01mwith\u001b[39;00m \u001b[38;5;28;43mopen\u001b[39;49m\u001b[43m(\u001b[49m\u001b[38;5;124;43mf\u001b[39;49m\u001b[38;5;124;43m'\u001b[39;49m\u001b[38;5;132;43;01m{\u001b[39;49;00m\u001b[43mdirectory\u001b[49m\u001b[38;5;132;43;01m}\u001b[39;49;00m\u001b[38;5;124;43m\\\u001b[39;49m\u001b[38;5;132;43;01m{\u001b[39;49;00m\u001b[43mfile\u001b[49m\u001b[38;5;132;43;01m}\u001b[39;49;00m\u001b[38;5;124;43m'\u001b[39;49m\u001b[43m,\u001b[49m\u001b[38;5;124;43m'\u001b[39;49m\u001b[38;5;124;43mrb\u001b[39;49m\u001b[38;5;124;43m'\u001b[39;49m\u001b[43m)\u001b[49m \u001b[38;5;28;01mas\u001b[39;00m old:\n\u001b[0;32m     13\u001b[0m       original \u001b[38;5;241m=\u001b[39m old\u001b[38;5;241m.\u001b[39mread()\n\u001b[0;32m     14\u001b[0m    encrypted \u001b[38;5;241m=\u001b[39m cipher\u001b[38;5;241m.\u001b[39mencrypt(original)\n",
      "File \u001b[1;32mC:\\ProgramData\\anaconda3\\lib\\site-packages\\IPython\\core\\interactiveshell.py:282\u001b[0m, in \u001b[0;36m_modified_open\u001b[1;34m(file, *args, **kwargs)\u001b[0m\n\u001b[0;32m    275\u001b[0m \u001b[38;5;28;01mif\u001b[39;00m file \u001b[38;5;129;01min\u001b[39;00m {\u001b[38;5;241m0\u001b[39m, \u001b[38;5;241m1\u001b[39m, \u001b[38;5;241m2\u001b[39m}:\n\u001b[0;32m    276\u001b[0m     \u001b[38;5;28;01mraise\u001b[39;00m \u001b[38;5;167;01mValueError\u001b[39;00m(\n\u001b[0;32m    277\u001b[0m         \u001b[38;5;124mf\u001b[39m\u001b[38;5;124m\"\u001b[39m\u001b[38;5;124mIPython won\u001b[39m\u001b[38;5;124m'\u001b[39m\u001b[38;5;124mt let you open fd=\u001b[39m\u001b[38;5;132;01m{\u001b[39;00mfile\u001b[38;5;132;01m}\u001b[39;00m\u001b[38;5;124m by default \u001b[39m\u001b[38;5;124m\"\u001b[39m\n\u001b[0;32m    278\u001b[0m         \u001b[38;5;124m\"\u001b[39m\u001b[38;5;124mas it is likely to crash IPython. If you know what you are doing, \u001b[39m\u001b[38;5;124m\"\u001b[39m\n\u001b[0;32m    279\u001b[0m         \u001b[38;5;124m\"\u001b[39m\u001b[38;5;124myou can use builtins\u001b[39m\u001b[38;5;124m'\u001b[39m\u001b[38;5;124m open.\u001b[39m\u001b[38;5;124m\"\u001b[39m\n\u001b[0;32m    280\u001b[0m     )\n\u001b[1;32m--> 282\u001b[0m \u001b[38;5;28;01mreturn\u001b[39;00m io_open(file, \u001b[38;5;241m*\u001b[39margs, \u001b[38;5;241m*\u001b[39m\u001b[38;5;241m*\u001b[39mkwargs)\n",
      "\u001b[1;31mPermissionError\u001b[0m: [Errno 13] Permission denied: 'E:\\\\\\\\\\\\System Volume Information'"
     ]
    }
   ],
   "source": [
    "state = 'decrypted'\n",
    "if __name__=='__main__':\n",
    "   while True:\n",
    "      disk = check_for_key()\n",
    "      try:\n",
    "         key = load_key(disk)\n",
    "      except:\n",
    "         print('No Key Available')\n",
    "      if disk!=None:\n",
    "         current_state = 'decrypted'\n",
    "         if current_state!=state:\n",
    "            decryptFiles(key,files)\n",
    "         else:\n",
    "            current_state = 'encrypted'\n",
    "            if current_state!=state:\n",
    "               encryptFiles(key,files)"
   ]
  },
  {
   "cell_type": "code",
   "execution_count": null,
   "id": "b112f699",
   "metadata": {},
   "outputs": [],
   "source": [
    "encryptFiles(directory, key)"
   ]
  },
  {
   "cell_type": "code",
   "execution_count": null,
   "id": "ef22f96b",
   "metadata": {},
   "outputs": [],
   "source": []
  }
 ],
 "metadata": {
  "kernelspec": {
   "display_name": "Python 3 (ipykernel)",
   "language": "python",
   "name": "python3"
  },
  "language_info": {
   "codemirror_mode": {
    "name": "ipython",
    "version": 3
   },
   "file_extension": ".py",
   "mimetype": "text/x-python",
   "name": "python",
   "nbconvert_exporter": "python",
   "pygments_lexer": "ipython3",
   "version": "3.10.9"
  }
 },
 "nbformat": 4,
 "nbformat_minor": 5
}
