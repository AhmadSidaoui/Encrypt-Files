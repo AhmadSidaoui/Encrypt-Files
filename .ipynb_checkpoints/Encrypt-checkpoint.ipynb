{
 "cells": [
  {
   "cell_type": "markdown",
   "id": "528c89d7",
   "metadata": {},
   "source": [
    "# Encrypting & Decrypting Files (python)"
   ]
  },
  {
   "cell_type": "code",
   "execution_count": 9,
   "id": "8d2c052f",
   "metadata": {},
   "outputs": [],
   "source": [
    "# Dependencies\n",
    "\n",
    "import os\n",
    "import wmi   # library that allows to scan the ports of a computer\n",
    "from cryptography.fernet import Fernet\n",
    "\n",
    "# Defining variable with the file name\n",
    "# Defining variable with file path\n",
    "\n",
    "folder_name = 'Encrypt'\n",
    "file_path = 'C:\\\\Users\\\\ahmad\\\\Desktop\\\\EncryptFiles\\\\Encrypt'\n"
   ]
  },
  {
   "cell_type": "code",
   "execution_count": 10,
   "id": "c56276ad",
   "metadata": {},
   "outputs": [],
   "source": [
    "# check if the file exists in the directory\n",
    "\n",
    "def check_for_file():\n",
    "    print(\"Trying to find the host folder\")\n",
    "    if folder_name in os.listdir():\n",
    "        print('Folder Found')\n",
    "    else:\n",
    "        print('Folder not found... creating the hosting folder')\n",
    "        os.mkdir(folder_name)"
   ]
  },
  {
   "cell_type": "markdown",
   "id": "9173aeb6",
   "metadata": {},
   "source": [
    "## Encryption Key"
   ]
  },
  {
   "cell_type": "code",
   "execution_count": 11,
   "id": "7101ccef",
   "metadata": {},
   "outputs": [],
   "source": [
    "# Generating a unique encryption key\n",
    "# We need to see if the usb stick already has a key,\n",
    "# if not we need to generate one\n",
    "\n",
    "\n",
    "def load_key():\n",
    "    try:                              # to check if a key exists \n",
    "        print('Trying to find key...')\n",
    "        with open(f'{file_path}\\\\encryptionKey.key','rb') as encryptKey:\n",
    "            key = encryptKey.read()\n",
    "        print('Found Key')\n",
    "    except:                           # to create a new one if it dies not exist\n",
    "        print('Key not found... Creating a new key')\n",
    "        key = Fernet.generate_key()\n",
    "        with open(f'{file_path}\\\\encryptionKey.key','wb') as encryptKey:\n",
    "            encryptKey.write(key)\n",
    "    return key"
   ]
  },
  {
   "cell_type": "markdown",
   "id": "e0b74f2f",
   "metadata": {},
   "source": [
    "## Encryption Function"
   ]
  },
  {
   "cell_type": "code",
   "execution_count": 12,
   "id": "804c92fe",
   "metadata": {},
   "outputs": [],
   "source": [
    "# encryption function\n",
    "\n",
    "# open each file in the directory, read it, encrypt the contents, write\n",
    "# and replace the data\n",
    "\n",
    "def encryptFiles(key,directory):\n",
    "    files = os.listdir(directory)\n",
    "    cipher = Fernet(key)\n",
    "    global state\n",
    "    for file in files:\n",
    "        if file == 'encryptionKey.key':\n",
    "            continue\n",
    "        with open(f'{directory}\\{file}','rb') as old:\n",
    "            original = old.read()\n",
    "        encrypted = cipher.encrypt(original)\n",
    "        with open(f'{directory}\\{file}','wb') as old:\n",
    "            old.write(encrypted)"
   ]
  },
  {
   "cell_type": "markdown",
   "id": "75b63cc0",
   "metadata": {},
   "source": [
    "## Decryption Function"
   ]
  },
  {
   "cell_type": "code",
   "execution_count": 13,
   "id": "c591175b",
   "metadata": {},
   "outputs": [],
   "source": [
    "# decryption function\n",
    "\n",
    "def decryptFiles(key,directory):\n",
    "    files = os.listdir(directory)\n",
    "    cipher = Fernet(key)\n",
    "    global state\n",
    "    for file in files:\n",
    "        if file == 'encryptionKey.key':\n",
    "            continue\n",
    "        with open(f'{directory}\\{file}','rb') as old:\n",
    "            encrypted = old.read()\n",
    "        decrypted = cipher.decrypt(encrypted)\n",
    "        with open(f'{directory}\\{file}','wb') as old:\n",
    "            old.write(decrypted)"
   ]
  },
  {
   "cell_type": "markdown",
   "id": "21e6c9e8",
   "metadata": {},
   "source": [
    "## Execution"
   ]
  },
  {
   "cell_type": "code",
   "execution_count": 15,
   "id": "b112f699",
   "metadata": {},
   "outputs": [
    {
     "name": "stdout",
     "output_type": "stream",
     "text": [
      "Specify the state of the files \"decrypted\" or \"encrypted\"\n",
      "encrypted\n",
      "Trying to find key...\n",
      "Found Key\n",
      "Sucessfully decrypted\n"
     ]
    }
   ],
   "source": [
    "# Executing functions\n",
    "\n",
    "\n",
    "print('Specify the state of the files \"decrypted\" or \"encrypted\"')\n",
    "state = input()\n",
    "\n",
    "while state != \"encrypted\" and state != \"decrypted\":\n",
    "    state = input('Please enter a correct state or enter \"exit\": ')\n",
    "    if state == \"exit\":\n",
    "        break\n",
    "        \n",
    "if state == 'decrypted':\n",
    "    \n",
    "    key = load_key()\n",
    "    encryptFiles(key,file_path)\n",
    "    print('Successfully encrypted')\n",
    "    state = 'encrypted'\n",
    "\n",
    "elif state == 'encrypted':\n",
    "    \n",
    "    key = load_key()\n",
    "    decryptFiles(key, file_path)\n",
    "    print('Sucessfully decrypted')\n",
    "    state = 'decrypted'\n",
    "\n",
    "    \n"
   ]
  }
 ],
 "metadata": {
  "kernelspec": {
   "display_name": "Python 3 (ipykernel)",
   "language": "python",
   "name": "python3"
  },
  "language_info": {
   "codemirror_mode": {
    "name": "ipython",
    "version": 3
   },
   "file_extension": ".py",
   "mimetype": "text/x-python",
   "name": "python",
   "nbconvert_exporter": "python",
   "pygments_lexer": "ipython3",
   "version": "3.10.9"
  }
 },
 "nbformat": 4,
 "nbformat_minor": 5
}
